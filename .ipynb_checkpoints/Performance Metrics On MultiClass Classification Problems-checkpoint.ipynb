{
 "cells": [
  {
   "cell_type": "markdown",
   "id": "76c3262f",
   "metadata": {},
   "source": [
    "#### Performance Metrics On MultiClass Classification Problems"
   ]
  },
  {
   "cell_type": "code",
   "execution_count": 1,
   "id": "bf9298f0",
   "metadata": {},
   "outputs": [],
   "source": [
    "from sklearn import metrics"
   ]
  },
  {
   "cell_type": "code",
   "execution_count": 2,
   "id": "6f9ac259",
   "metadata": {},
   "outputs": [],
   "source": [
    "c = \"Cat\"\n",
    "d = \"Dog\"\n",
    "f = \"Fox\""
   ]
  },
  {
   "cell_type": "markdown",
   "id": "149bfdba",
   "metadata": {},
   "source": [
    "Preision : It is the number of correctly predicted cat out of all predicted cat"
   ]
  },
  {
   "cell_type": "markdown",
   "id": "b623d6fe",
   "metadata": {},
   "source": [
    "Recall : It is the number of correctly predicted cat out of the number of actual cat"
   ]
  },
  {
   "cell_type": "code",
   "execution_count": null,
   "id": "4d162345",
   "metadata": {},
   "outputs": [],
   "source": []
  },
  {
   "cell_type": "code",
   "execution_count": null,
   "id": "4c347933",
   "metadata": {},
   "outputs": [],
   "source": []
  },
  {
   "cell_type": "code",
   "execution_count": null,
   "id": "7f0f34c8",
   "metadata": {},
   "outputs": [],
   "source": []
  },
  {
   "cell_type": "code",
   "execution_count": null,
   "id": "e64a4bf7",
   "metadata": {},
   "outputs": [],
   "source": []
  },
  {
   "cell_type": "code",
   "execution_count": null,
   "id": "1ddc98e5",
   "metadata": {},
   "outputs": [],
   "source": []
  },
  {
   "cell_type": "code",
   "execution_count": null,
   "id": "b36e0e07",
   "metadata": {},
   "outputs": [],
   "source": []
  },
  {
   "cell_type": "code",
   "execution_count": null,
   "id": "10d25510",
   "metadata": {},
   "outputs": [],
   "source": []
  },
  {
   "cell_type": "code",
   "execution_count": null,
   "id": "a3d62b22",
   "metadata": {},
   "outputs": [],
   "source": []
  },
  {
   "cell_type": "code",
   "execution_count": null,
   "id": "592f4289",
   "metadata": {},
   "outputs": [],
   "source": []
  }
 ],
 "metadata": {
  "kernelspec": {
   "display_name": "Python 3",
   "language": "python",
   "name": "python3"
  },
  "language_info": {
   "codemirror_mode": {
    "name": "ipython",
    "version": 3
   },
   "file_extension": ".py",
   "mimetype": "text/x-python",
   "name": "python",
   "nbconvert_exporter": "python",
   "pygments_lexer": "ipython3",
   "version": "3.8.8"
  }
 },
 "nbformat": 4,
 "nbformat_minor": 5
}
